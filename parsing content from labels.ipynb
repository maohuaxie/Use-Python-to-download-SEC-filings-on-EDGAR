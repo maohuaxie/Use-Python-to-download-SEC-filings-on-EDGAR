{
 "cells": [
  {
   "cell_type": "code",
   "execution_count": 22,
   "metadata": {
    "collapsed": true
   },
   "outputs": [],
   "source": [
    "# first, import all the packages we need\n",
    "import numpy as np\n",
    "import cv2\n",
    "from matplotlib import pyplot as plt\n",
    "from PIL import Image, ImageChops\n",
    "import pytesseract\n",
    "import scipy.misc\n",
    "%matplotlib notebook"
   ]
  },
  {
   "cell_type": "code",
   "execution_count": 51,
   "metadata": {
    "collapsed": false
   },
   "outputs": [
    {
     "name": "stderr",
     "output_type": "stream",
     "text": [
      "/usr/lib/python2.7/site-packages/ipykernel/__main__.py:11: VisibleDeprecationWarning: using a non-integer number instead of an integer will result in an error in the future\n"
     ]
    }
   ],
   "source": [
    "import os\n",
    "rootdir = '/home/mxie3/label2'\n",
    "list = os.listdir(rootdir)                                                       \n",
    "for line in list:                                                                                     \n",
    "    filepath = os.path.join(rootdir,line)                                          \n",
    "    if os.path.isdir(filepath):                                                                       \n",
    "        print \"dir:\" + filepath                                                                       \n",
    "    else:                \n",
    "        img = cv2.imread(filepath)\n",
    "        h, w, channels = img.shape\n",
    "        crop = img[0.6*h:h, 0:0.7*w] # cropped the picture with 60 percentage hight, 70 percent of width\n",
    "        save_path = os.path.join('/home/mxie3/label2cropped',line)\n",
    "        cv2.imwrite(save_path,crop)\n"
   ]
  },
  {
   "cell_type": "code",
   "execution_count": 61,
   "metadata": {
    "collapsed": false
   },
   "outputs": [],
   "source": [
    "import os\n",
    "rootdir = '/home/mxie3/label2cropped'\n",
    "list = os.listdir(rootdir) \n",
    "result={} # creat empty dictionary\n",
    "unit=\" unit\"\n",
    "quantity=\" quantitiy\"\n",
    "for line in list:                                                                                     \n",
    "    filepath = os.path.join(rootdir,line)                                          \n",
    "    if os.path.isdir(filepath):                                                                       \n",
    "        print \"dir:\" + filepath                                                                       \n",
    "    else:                \n",
    "        img=Image.open(filepath)\n",
    "        label_text = pytesseract.image_to_string(img, config='-c tessedit_char_whitelist=.:-/xABCDEFGHIJKLMNOPQRSTUVWXYZ0123456789 --psm=12')\n",
    "        try:\n",
    "            result[line + unit]=label_text.split(\"\\n\")[0].split(\" \")[-1] # pupulate data to dictionary \n",
    "            result[line + quantity]=label_text.split(\"\\n\")[2].split(\" \")[-1] # pupulate data to dictionary\n",
    "        except:\n",
    "            \"list index out of range\" # # catch the error may occur"
   ]
  },
  {
   "cell_type": "code",
   "execution_count": 62,
   "metadata": {
    "collapsed": false
   },
   "outputs": [
    {
     "name": "stdout",
     "output_type": "stream",
     "text": [
      "{'WR20170913-CAM2-DSC_6038.JPG unit': '5', 'WR20170913-CAM2-DSC_6043.JPG quantitiy': '580', 'WR20170913-CAM2-DSC_6041.JPG unit': '11', 'WR20170913-CAM2-DSC_6023.JPG unit': '6', 'WR20170913-CAM2-DSC_6039.JPG unit': '9', 'WR20170913-CAM2-DSC_6016.JPG unit': 'I', 'WR20170913-CAM2-DSC_6028.JPG unit': 'J', 'WR20170913-CAM2-DSC_6025.JPG unit': '', 'WR20170913-CAM2-DSC_6049.JPG unit': '5', 'WR20170913-CAM2-DSC_6013.JPG unit': '63355229203943', 'WR20170913-CAM2-DSC_6019.JPG unit': '2', 'WR20170913-CAM2-DSC_6045.JPG unit': '', 'WR20170913-CAM2-DSC_6047.JPG unit': 'W', 'WR20170913-CAM2-DSC_6030.JPG quantitiy': '560', 'WR20170913-CAM2-DSC_6031.JPG unit': 'MIIIHIIIIHIIIIIIIIIMI', 'WR20170913-CAM2-DSC_6046.JPG quantitiy': '528', 'WR20170913-CAM2-DSC_6042.JPG unit': '1', 'WR20170913-CAM2-DSC_6012.JPG unit': '', 'WR20170913-CAM2-DSC_6017.JPG unit': '5', 'WR20170913-CAM2-DSC_6036.JPG unit': 'U', 'WR20170913-CAM2-DSC_6016.JPG quantitiy': '', 'WR20170913-CAM2-DSC_6040.JPG quantitiy': '530', 'WR20170913-CAM2-DSC_6035.JPG unit': '21552292068W7', 'WR20170913-CAM2-DSC_6049.JPG quantitiy': '3/8W', 'WR20170913-CAM2-DSC_6029.JPG quantitiy': '', 'WR20170913-CAM2-DSC_6029.JPG unit': ':15', 'WR20170913-CAM2-DSC_6035.JPG quantitiy': '580', 'WR20170913-CAM2-DSC_6041.JPG quantitiy': '580', 'WR20170913-CAM2-DSC_6017.JPG quantitiy': '2', 'WR20170913-CAM2-DSC_6018.JPG unit': '2', 'WR20170913-CAM2-DSC_6042.JPG quantitiy': 'M', 'WR20170913-CAM2-DSC_6043.JPG unit': '13', 'WR20170913-CAM2-DSC_6048.JPG quantitiy': '', 'WR20170913-CAM2-DSC_6030.JPG unit': '15', 'WR20170913-CAM2-DSC_6018.JPG quantitiy': '3/4....M', 'WR20170913-CAM2-DSC_6039.JPG quantitiy': '580', 'WR20170913-CAM2-DSC_6044.JPG quantitiy': '580', 'WR20170913-CAM2-DSC_6036.JPG quantitiy': '58', 'WR20170913-CAM2-DSC_6047.JPG quantitiy': '', 'WR20170913-CAM2-DSC_6050.JPG unit': 'E', 'WR20170913-CAM2-DSC_6026.JPG quantitiy': 'W', 'WR20170913-CAM2-DSC_6020.JPG unit': '', 'WR20170913-CAM2-DSC_6013.JPG quantitiy': '', 'WR20170913-CAM2-DSC_6050.JPG quantitiy': '2', 'WR20170913-CAM2-DSC_6015.JPG unit': '', 'WR20170913-CAM2-DSC_6023.JPG quantitiy': '', 'WR20170913-CAM2-DSC_6022.JPG unit': '4', 'WR20170913-CAM2-DSC_6019.JPG quantitiy': '204', 'WR20170913-CAM2-DSC_6038.JPG quantitiy': '0058989', 'WR20170913-CAM2-DSC_6040.JPG unit': '53552292072H30', 'WR20170913-CAM2-DSC_6026.JPG unit': '12', 'WR20170913-CAM2-DSC_6028.JPG quantitiy': '580', 'WR20170913-CAM2-DSC_6046.JPG unit': '5', 'WR20170913-CAM2-DSC_6048.JPG unit': '7', 'WR20170913-CAM2-DSC_6022.JPG quantitiy': '422', 'WR20170913-CAM2-DSC_6044.JPG unit': '12'}\n"
     ]
    }
   ],
   "source": [
    "print result # print out the dictionary "
   ]
  },
  {
   "cell_type": "code",
   "execution_count": null,
   "metadata": {
    "collapsed": true
   },
   "outputs": [],
   "source": []
  }
 ],
 "metadata": {
  "kernelspec": {
   "display_name": "Python 2",
   "language": "python",
   "name": "python2"
  },
  "language_info": {
   "codemirror_mode": {
    "name": "ipython",
    "version": 2
   },
   "file_extension": ".py",
   "mimetype": "text/x-python",
   "name": "python",
   "nbconvert_exporter": "python",
   "pygments_lexer": "ipython2",
   "version": "2.7.5"
  },
  "toc": {
   "nav_menu": {
    "height": "12px",
    "width": "252px"
   },
   "navigate_menu": true,
   "number_sections": true,
   "sideBar": true,
   "threshold": 4,
   "toc_cell": false,
   "toc_section_display": "block",
   "toc_window_display": false
  }
 },
 "nbformat": 4,
 "nbformat_minor": 0
}

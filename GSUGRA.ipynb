{
 "cells": [
  {
   "cell_type": "code",
   "execution_count": 2,
   "metadata": {},
   "outputs": [
    {
     "name": "stdout",
     "output_type": "stream",
     "text": [
      "https://www.sec.gov/Archives/edgar/full-index/2015/QTR1/master.idx downloaded and wrote to SQLite\n",
      "https://www.sec.gov/Archives/edgar/full-index/2015/QTR2/master.idx downloaded and wrote to SQLite\n",
      "https://www.sec.gov/Archives/edgar/full-index/2015/QTR3/master.idx downloaded and wrote to SQLite\n",
      "https://www.sec.gov/Archives/edgar/full-index/2015/QTR4/master.idx downloaded and wrote to SQLite\n",
      "https://www.sec.gov/Archives/edgar/full-index/2016/QTR1/master.idx downloaded and wrote to SQLite\n",
      "https://www.sec.gov/Archives/edgar/full-index/2016/QTR2/master.idx downloaded and wrote to SQLite\n",
      "https://www.sec.gov/Archives/edgar/full-index/2016/QTR3/master.idx downloaded and wrote to SQLite\n",
      "https://www.sec.gov/Archives/edgar/full-index/2016/QTR4/master.idx downloaded and wrote to SQLite\n",
      "https://www.sec.gov/Archives/edgar/full-index/2017/QTR1/master.idx downloaded and wrote to SQLite\n",
      "https://www.sec.gov/Archives/edgar/full-index/2017/QTR2/master.idx downloaded and wrote to SQLite\n",
      "https://www.sec.gov/Archives/edgar/full-index/2017/QTR3/master.idx downloaded and wrote to SQLite\n"
     ]
    }
   ],
   "source": [
    "# Generate the list of index files archived in EDGAR since start_year (earliest: 2015) until the most recent quarter\n",
    "import datetime\n",
    " \n",
    "current_year = datetime.date.today().year\n",
    "current_quarter = (datetime.date.today().month - 1) // 3 + 1\n",
    "start_year = 2015\n",
    "years = list(range(start_year, current_year))\n",
    "quarters = ['QTR1', 'QTR2', 'QTR3', 'QTR4']\n",
    "history = [(y, q) for y in years for q in quarters]\n",
    "for i in range(1, current_quarter + 1):\n",
    "    history.append((current_year, 'QTR%d' % i))\n",
    "urls = ['https://www.sec.gov/Archives/edgar/full-index/%d/%s/master.idx' % (x[0], x[1]) for x in history]\n",
    "urls.sort()\n",
    " \n",
    "# Download index files and write content into SQLite\n",
    "import sqlite3\n",
    "import requests\n",
    " \n",
    "con = sqlite3.connect('edgar_idx2.db')\n",
    "cur = con.cursor()\n",
    "cur.execute('DROP TABLE IF EXISTS idx')\n",
    "cur.execute('CREATE TABLE idx (cik TEXT, conm TEXT, type TEXT, date TEXT, path TEXT)')\n",
    " \n",
    "for url in urls:\n",
    "    lines = requests.get(url).text.splitlines()\n",
    "    records = [tuple(line.split('|')) for line in lines[11:]]\n",
    "    cur.executemany('INSERT INTO idx VALUES (?, ?, ?, ?, ?)', records)\n",
    "    print(url, 'downloaded and wrote to SQLite')\n",
    " \n",
    "con.commit()\n",
    "con.close()\n",
    " \n"
   ]
  },
  {
   "cell_type": "code",
   "execution_count": 3,
   "metadata": {
    "collapsed": true
   },
   "outputs": [],
   "source": [
    "# Write SQLite database to Stata\n",
    "import pandas\n",
    "from sqlalchemy import create_engine\n",
    " \n",
    "engine = create_engine('sqlite:///edgar_idx.db')\n",
    "with engine.connect() as conn, conn.begin():\n",
    "    data = pandas.read_sql_table('idx', conn)\n",
    "    data.to_stata('edgar_idx.dta')"
   ]
  },
  {
   "cell_type": "code",
   "execution_count": null,
   "metadata": {
    "collapsed": true
   },
   "outputs": [],
   "source": []
  }
 ],
 "metadata": {
  "anaconda-cloud": {},
  "kernelspec": {
   "display_name": "Python [default]",
   "language": "python",
   "name": "python3"
  },
  "language_info": {
   "codemirror_mode": {
    "name": "ipython",
    "version": 3
   },
   "file_extension": ".py",
   "mimetype": "text/x-python",
   "name": "python",
   "nbconvert_exporter": "python",
   "pygments_lexer": "ipython3",
   "version": "3.5.2"
  }
 },
 "nbformat": 4,
 "nbformat_minor": 2
}
